{
 "cells": [
  {
   "cell_type": "code",
   "execution_count": null,
   "id": "22632c1e",
   "metadata": {},
   "outputs": [],
   "source": [
    "import librosa\n",
    "import librosa.display\n",
    "import IPython.display as ipd\n",
    "import matplotlib.pyplot as plt"
   ]
  },
  {
   "cell_type": "code",
   "execution_count": null,
   "id": "baebba03",
   "metadata": {},
   "outputs": [],
   "source": [
    "fn0 = '../wavs/origin/0150.wav'\n",
    "fn1 = '../wavs/origin/0151.wav'"
   ]
  },
  {
   "cell_type": "code",
   "execution_count": null,
   "id": "9fdeb3b6",
   "metadata": {},
   "outputs": [],
   "source": [
    "ipd.Audio(fn0)"
   ]
  },
  {
   "cell_type": "code",
   "execution_count": null,
   "id": "a08ed561",
   "metadata": {},
   "outputs": [],
   "source": [
    "ipd.Audio(fn1)"
   ]
  },
  {
   "cell_type": "code",
   "execution_count": null,
   "id": "a765f60e",
   "metadata": {},
   "outputs": [],
   "source": [
    "y0, sr0 = librosa.load(fn0, sr=None)\n",
    "y1, sr1 = librosa.load(fn1, sr=None)"
   ]
  },
  {
   "cell_type": "code",
   "execution_count": null,
   "id": "6f949a90",
   "metadata": {},
   "outputs": [],
   "source": [
    "# Bad sound visualization.\n",
    "plt.figure(figsize=(14,5))\n",
    "librosa.display.waveplot(y0, sr=sr0)"
   ]
  },
  {
   "cell_type": "code",
   "execution_count": null,
   "id": "6cbdf958",
   "metadata": {},
   "outputs": [],
   "source": [
    "# Good sound visualization.\n",
    "plt.figure(figsize=(14,5))\n",
    "librosa.display.waveplot(y1, sr=sr1)"
   ]
  },
  {
   "cell_type": "code",
   "execution_count": null,
   "id": "aa25ce13",
   "metadata": {
    "scrolled": true
   },
   "outputs": [],
   "source": [
    "# Bad sound spectrogram.\n",
    "Y0 = librosa.stft(y0)\n",
    "Y0_db = librosa.amplitude_to_db(abs(Y0))\n",
    "plt.figure(figsize=(14,5))\n",
    "librosa.display.specshow(Y0_db, sr=sr0, x_axis='time', y_axis='hz')\n",
    "plt.colorbar()"
   ]
  },
  {
   "cell_type": "code",
   "execution_count": null,
   "id": "c62c2d8b",
   "metadata": {},
   "outputs": [],
   "source": [
    "# Good sound spectrogram.\n",
    "Y1 = librosa.stft(y1)\n",
    "Y1_db = librosa.amplitude_to_db(abs(Y1))\n",
    "plt.figure(figsize=(14,5))\n",
    "librosa.display.specshow(Y1_db, sr=sr1, x_axis='time', y_axis='hz')\n",
    "plt.colorbar()"
   ]
  },
  {
   "cell_type": "code",
   "execution_count": null,
   "id": "f0facab3",
   "metadata": {},
   "outputs": [],
   "source": [
    "# Bad sound log spectrogram.\n",
    "plt.figure(figsize=(14,5))\n",
    "librosa.display.specshow(Y0_db, sr=sr0, x_axis='time', y_axis='log')\n",
    "plt.colorbar()"
   ]
  },
  {
   "cell_type": "code",
   "execution_count": null,
   "id": "27bb4f48",
   "metadata": {},
   "outputs": [],
   "source": [
    "# Good sound log spectrogram.\n",
    "plt.figure(figsize=(14,5))\n",
    "librosa.display.specshow(Y1_db, sr=sr1, x_axis='time', y_axis='log')\n",
    "plt.colorbar()"
   ]
  },
  {
   "cell_type": "code",
   "execution_count": null,
   "id": "6f8a6078",
   "metadata": {},
   "outputs": [],
   "source": []
  }
 ],
 "metadata": {
  "kernelspec": {
   "display_name": "Python 3",
   "language": "python",
   "name": "python3"
  },
  "language_info": {
   "codemirror_mode": {
    "name": "ipython",
    "version": 3
   },
   "file_extension": ".py",
   "mimetype": "text/x-python",
   "name": "python",
   "nbconvert_exporter": "python",
   "pygments_lexer": "ipython3",
   "version": "3.9.4"
  }
 },
 "nbformat": 4,
 "nbformat_minor": 5
}
