{
 "cells": [
  {
   "cell_type": "code",
   "execution_count": null,
   "id": "6976bd80",
   "metadata": {},
   "outputs": [],
   "source": [
    "import wi\n",
    "import IPython.display as ipd"
   ]
  },
  {
   "cell_type": "code",
   "execution_count": null,
   "id": "68c814dc",
   "metadata": {},
   "outputs": [],
   "source": [
    "test = '../wavs/origin/0001.wav'"
   ]
  },
  {
   "cell_type": "code",
   "execution_count": null,
   "id": "4109e0f0",
   "metadata": {},
   "outputs": [],
   "source": [
    "ipd.Audio(test)"
   ]
  },
  {
   "cell_type": "code",
   "execution_count": null,
   "id": "40e9b340",
   "metadata": {},
   "outputs": [],
   "source": [
    "wav = wi.WAV(test)\n",
    "wav.generate_spectres()"
   ]
  },
  {
   "cell_type": "code",
   "execution_count": null,
   "id": "4934fb09",
   "metadata": {},
   "outputs": [],
   "source": [
    "wav.summary()"
   ]
  },
  {
   "cell_type": "code",
   "execution_count": null,
   "id": "7b53f709",
   "metadata": {},
   "outputs": [],
   "source": [
    "wav.show_spectre(0)"
   ]
  },
  {
   "cell_type": "code",
   "execution_count": null,
   "id": "94808862",
   "metadata": {},
   "outputs": [],
   "source": []
  }
 ],
 "metadata": {
  "kernelspec": {
   "display_name": "Python 3",
   "language": "python",
   "name": "python3"
  },
  "language_info": {
   "codemirror_mode": {
    "name": "ipython",
    "version": 3
   },
   "file_extension": ".py",
   "mimetype": "text/x-python",
   "name": "python",
   "nbconvert_exporter": "python",
   "pygments_lexer": "ipython3",
   "version": "3.9.4"
  }
 },
 "nbformat": 4,
 "nbformat_minor": 5
}
