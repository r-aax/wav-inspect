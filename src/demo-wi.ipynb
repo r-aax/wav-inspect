{
 "cells": [
  {
   "cell_type": "code",
   "execution_count": null,
   "id": "6976bd80",
   "metadata": {},
   "outputs": [],
   "source": [
    "import wi"
   ]
  },
  {
   "cell_type": "code",
   "execution_count": null,
   "id": "40e9b340",
   "metadata": {},
   "outputs": [],
   "source": [
    "wav = wi.WAV()\n",
    "wav.load('../wavs/origin/0001.wav')"
   ]
  },
  {
   "cell_type": "code",
   "execution_count": null,
   "id": "4934fb09",
   "metadata": {},
   "outputs": [],
   "source": [
    "wav.summary()"
   ]
  },
  {
   "cell_type": "code",
   "execution_count": null,
   "id": "3bea0d65",
   "metadata": {},
   "outputs": [],
   "source": [
    "wav.get_spectres()"
   ]
  },
  {
   "cell_type": "code",
   "execution_count": null,
   "id": "7b53f709",
   "metadata": {},
   "outputs": [],
   "source": [
    "wi.show_plt(wav.sp[0], wav.sr)"
   ]
  },
  {
   "cell_type": "code",
   "execution_count": null,
   "id": "e6dd9b16",
   "metadata": {},
   "outputs": [],
   "source": []
  }
 ],
 "metadata": {
  "kernelspec": {
   "display_name": "Python 3",
   "language": "python",
   "name": "python3"
  },
  "language_info": {
   "codemirror_mode": {
    "name": "ipython",
    "version": 3
   },
   "file_extension": ".py",
   "mimetype": "text/x-python",
   "name": "python",
   "nbconvert_exporter": "python",
   "pygments_lexer": "ipython3",
   "version": "3.9.4"
  }
 },
 "nbformat": 4,
 "nbformat_minor": 5
}
