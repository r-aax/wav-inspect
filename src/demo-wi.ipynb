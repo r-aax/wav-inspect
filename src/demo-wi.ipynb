{
 "cells": [
  {
   "cell_type": "code",
   "execution_count": null,
   "id": "6976bd80",
   "metadata": {},
   "outputs": [],
   "source": [
    "import wi\n",
    "import wi_utils\n",
    "import numpy as np\n",
    "import IPython.display as ipd\n",
    "import librosa"
   ]
  },
  {
   "cell_type": "code",
   "execution_count": null,
   "id": "9cf24b03",
   "metadata": {},
   "outputs": [],
   "source": [
    "test = '../wavs/origin/0001.wav'"
   ]
  },
  {
   "cell_type": "code",
   "execution_count": null,
   "id": "9adccb8c",
   "metadata": {},
   "outputs": [],
   "source": [
    "ipd.Audio(test)"
   ]
  },
  {
   "cell_type": "code",
   "execution_count": null,
   "id": "71c3771d",
   "metadata": {},
   "outputs": [],
   "source": [
    "wav = wi.WAV(test)"
   ]
  },
  {
   "cell_type": "code",
   "execution_count": null,
   "id": "4934fb09",
   "metadata": {},
   "outputs": [],
   "source": [
    "wav.summary()"
   ]
  },
  {
   "cell_type": "code",
   "execution_count": null,
   "id": "d22e31b9",
   "metadata": {},
   "outputs": [],
   "source": [
    "wav.ch0().show_spectre()"
   ]
  },
  {
   "cell_type": "code",
   "execution_count": null,
   "id": "9dc8ebd9",
   "metadata": {},
   "outputs": [],
   "source": []
  }
 ],
 "metadata": {
  "kernelspec": {
   "display_name": "Python 3",
   "language": "python",
   "name": "python3"
  },
  "language_info": {
   "codemirror_mode": {
    "name": "ipython",
    "version": 3
   },
   "file_extension": ".py",
   "mimetype": "text/x-python",
   "name": "python",
   "nbconvert_exporter": "python",
   "pygments_lexer": "ipython3",
   "version": "3.9.4"
  }
 },
 "nbformat": 4,
 "nbformat_minor": 5
}
