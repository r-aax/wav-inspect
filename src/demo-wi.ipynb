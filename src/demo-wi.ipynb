{
 "cells": [
  {
   "cell_type": "code",
   "execution_count": 1,
   "id": "6976bd80",
   "metadata": {},
   "outputs": [],
   "source": [
    "import wi\n",
    "import wi_utils\n",
    "import numpy as np\n",
    "import IPython.display as ipd\n",
    "import librosa"
   ]
  },
  {
   "cell_type": "code",
   "execution_count": 2,
   "id": "9cf24b03",
   "metadata": {},
   "outputs": [],
   "source": [
    "test = '../wavs/origin/0022.wav'"
   ]
  },
  {
   "cell_type": "code",
   "execution_count": 1,
   "id": "9adccb8c",
   "metadata": {},
   "outputs": [],
   "source": [
    "ipd.Audio(test)"
   ]
  },
  {
   "cell_type": "code",
   "execution_count": 4,
   "id": "71c3771d",
   "metadata": {},
   "outputs": [],
   "source": [
    "wav = wi.WAV(test)"
   ]
  },
  {
   "cell_type": "code",
   "execution_count": 5,
   "id": "9dc8ebd9",
   "metadata": {},
   "outputs": [],
   "source": [
    "chunk = wav.get_chunk(0, (0, 3))"
   ]
  },
  {
   "cell_type": "code",
   "execution_count": 6,
   "id": "about-navigation",
   "metadata": {},
   "outputs": [],
   "source": [
    "chunk.generate_spectres()"
   ]
  },
  {
   "cell_type": "code",
   "execution_count": 2,
   "id": "acknowledged-lecture",
   "metadata": {},
   "outputs": [],
   "source": [
    "chunk.show_spectre_dense()"
   ]
  }
 ],
 "metadata": {
  "kernelspec": {
   "display_name": "Python 3",
   "language": "python",
   "name": "python3"
  },
  "language_info": {
   "codemirror_mode": {
    "name": "ipython",
    "version": 3
   },
   "file_extension": ".py",
   "mimetype": "text/x-python",
   "name": "python",
   "nbconvert_exporter": "python",
   "pygments_lexer": "ipython3",
   "version": "3.8.8"
  }
 },
 "nbformat": 4,
 "nbformat_minor": 5
}
