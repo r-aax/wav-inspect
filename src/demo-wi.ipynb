{
 "cells": [
  {
   "cell_type": "code",
   "execution_count": null,
   "id": "6976bd80",
   "metadata": {},
   "outputs": [],
   "source": [
    "import wi\n",
    "import wi_utils\n",
    "import numpy as np\n",
    "import IPython.display as ipd"
   ]
  },
  {
   "cell_type": "code",
   "execution_count": null,
   "id": "9cf24b03",
   "metadata": {},
   "outputs": [],
   "source": [
    "test = '../wavs/origin/0016.wav'"
   ]
  },
  {
   "cell_type": "code",
   "execution_count": null,
   "id": "9adccb8c",
   "metadata": {},
   "outputs": [],
   "source": [
    "ipd.Audio(test)"
   ]
  },
  {
   "cell_type": "code",
   "execution_count": null,
   "id": "40e9b340",
   "metadata": {},
   "outputs": [],
   "source": [
    "wav = wi.WAV(test)"
   ]
  },
  {
   "cell_type": "code",
   "execution_count": null,
   "id": "4934fb09",
   "metadata": {},
   "outputs": [],
   "source": [
    "wav.summary()"
   ]
  },
  {
   "cell_type": "code",
   "execution_count": null,
   "id": "8ed849f7",
   "metadata": {},
   "outputs": [],
   "source": [
    "ns = wav.ch1().NSpectre"
   ]
  },
  {
   "cell_type": "code",
   "execution_count": null,
   "id": "60a38805",
   "metadata": {},
   "outputs": [],
   "source": [
    "wi_utils.show_map(ns)\n",
    "print(ns.min(), ns.max())"
   ]
  },
  {
   "cell_type": "code",
   "execution_count": null,
   "id": "c1d4fdf1",
   "metadata": {},
   "outputs": [],
   "source": [
    "ns2 = wi_utils.apply_filter_2d(ns, wi_utils.operator_prewitt_gx())\n",
    "wi_utils.show_map(ns2)\n",
    "print(ns2.min(), ns2.max())"
   ]
  },
  {
   "cell_type": "code",
   "execution_count": null,
   "id": "461cc645",
   "metadata": {},
   "outputs": [],
   "source": [
    "ns2 = wi_utils.apply_filter_2d(ns, wi_utils.operator_prewitt_gy())\n",
    "wi_utils.show_map(ns2)\n",
    "print(ns2.min(), ns2.max())"
   ]
  },
  {
   "cell_type": "code",
   "execution_count": null,
   "id": "a6b1b54b",
   "metadata": {},
   "outputs": [],
   "source": [
    "ns2 = wi_utils.apply_filter_2d(ns, wi_utils.operator_sobel_gx())\n",
    "wi_utils.show_map(ns2)\n",
    "print(ns2.min(), ns2.max())"
   ]
  },
  {
   "cell_type": "code",
   "execution_count": null,
   "id": "49ca3aa7",
   "metadata": {},
   "outputs": [],
   "source": [
    "ns2 = wi_utils.apply_filter_2d(ns, wi_utils.operator_sobel_gy())\n",
    "wi_utils.show_map(ns2)\n",
    "print(ns2.min(), ns2.max())"
   ]
  },
  {
   "cell_type": "code",
   "execution_count": null,
   "id": "52be732d",
   "metadata": {},
   "outputs": [],
   "source": []
  }
 ],
 "metadata": {
  "kernelspec": {
   "display_name": "Python 3",
   "language": "python",
   "name": "python3"
  },
  "language_info": {
   "codemirror_mode": {
    "name": "ipython",
    "version": 3
   },
   "file_extension": ".py",
   "mimetype": "text/x-python",
   "name": "python",
   "nbconvert_exporter": "python",
   "pygments_lexer": "ipython3",
   "version": "3.9.4"
  }
 },
 "nbformat": 4,
 "nbformat_minor": 5
}
