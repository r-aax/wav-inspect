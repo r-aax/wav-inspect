{
 "cells": [
  {
   "cell_type": "code",
   "execution_count": null,
   "id": "6976bd80",
   "metadata": {},
   "outputs": [],
   "source": [
    "import wi\n",
    "import IPython.display as ipd"
   ]
  },
  {
   "cell_type": "code",
   "execution_count": null,
   "id": "9cf24b03",
   "metadata": {},
   "outputs": [],
   "source": [
    "test = '../wavs/origin/0002.wav'"
   ]
  },
  {
   "cell_type": "code",
   "execution_count": null,
   "id": "9adccb8c",
   "metadata": {},
   "outputs": [],
   "source": [
    "ipd.Audio(test)"
   ]
  },
  {
   "cell_type": "code",
   "execution_count": null,
   "id": "40e9b340",
   "metadata": {},
   "outputs": [],
   "source": [
    "wav = wi.WAV(test)\n",
    "wav.generate_spectres()"
   ]
  },
  {
   "cell_type": "code",
   "execution_count": null,
   "id": "4934fb09",
   "metadata": {},
   "outputs": [],
   "source": [
    "wav.summary()"
   ]
  },
  {
   "cell_type": "code",
   "execution_count": null,
   "id": "b2d994a8",
   "metadata": {},
   "outputs": [],
   "source": [
    "# wav.show_wave(0)"
   ]
  },
  {
   "cell_type": "code",
   "execution_count": null,
   "id": "7b53f709",
   "metadata": {},
   "outputs": [],
   "source": [
    "wav.show_spectre(0)"
   ]
  },
  {
   "cell_type": "code",
   "execution_count": null,
   "id": "fe8080eb",
   "metadata": {},
   "outputs": [],
   "source": [
    "# wav.show_spectral_centroid(0)"
   ]
  },
  {
   "cell_type": "code",
   "execution_count": null,
   "id": "21ff2cc6",
   "metadata": {},
   "outputs": [],
   "source": [
    "# wav.show_spectral_rolloff(0)"
   ]
  },
  {
   "cell_type": "code",
   "execution_count": null,
   "id": "685864dc",
   "metadata": {},
   "outputs": [],
   "source": [
    "# wav.show_spectral_bandwidth(0)"
   ]
  },
  {
   "cell_type": "code",
   "execution_count": null,
   "id": "89161630",
   "metadata": {},
   "outputs": [],
   "source": [
    "wav.show_graph_spectre_total_power(0)"
   ]
  },
  {
   "cell_type": "code",
   "execution_count": null,
   "id": "dca17e6d",
   "metadata": {},
   "outputs": [],
   "source": [
    "wav.show_graph_spectre_min_max_power(0)"
   ]
  },
  {
   "cell_type": "code",
   "execution_count": null,
   "id": "1d09e121",
   "metadata": {},
   "outputs": [],
   "source": [
    "wav.show_graph_spectre_total_power_with_high_accent(0)"
   ]
  },
  {
   "cell_type": "code",
   "execution_count": null,
   "id": "3e4b9d34",
   "metadata": {},
   "outputs": [],
   "source": []
  }
 ],
 "metadata": {
  "kernelspec": {
   "display_name": "Python 3",
   "language": "python",
   "name": "python3"
  },
  "language_info": {
   "codemirror_mode": {
    "name": "ipython",
    "version": 3
   },
   "file_extension": ".py",
   "mimetype": "text/x-python",
   "name": "python",
   "nbconvert_exporter": "python",
   "pygments_lexer": "ipython3",
   "version": "3.9.4"
  }
 },
 "nbformat": 4,
 "nbformat_minor": 5
}
