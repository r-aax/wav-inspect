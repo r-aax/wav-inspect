{
 "cells": [
  {
   "cell_type": "code",
   "execution_count": null,
   "id": "443e83ec",
   "metadata": {},
   "outputs": [],
   "source": [
    "import wi"
   ]
  },
  {
   "cell_type": "code",
   "execution_count": null,
   "id": "57cf565c",
   "metadata": {},
   "outputs": [],
   "source": [
    "def sh(i):\n",
    "    \"\"\"\n",
    "    Show nspectre.\n",
    "    :param i: number of the case\n",
    "    \"\"\"\n",
    "\n",
    "    test = '../wavs/origin/{:04}.wav'.format(i)\n",
    "    print('INFO : {0}'.format(test))\n",
    "    wav = wi.WAV(test)\n",
    "    wav.ch0().show_nspectre(figsize=(20, 7.1))\n",
    "    wav.ch1().show_nspectre(figsize=(20, 7.1))\n",
    "    \n",
    "#\n",
    "#\n",
    "#\n",
    "#\n",
    "#\n",
    "#\n",
    "#\n",
    "#\n",
    "#\n",
    "#\n",
    "#\n",
    "#\n",
    "#\n",
    "#\n",
    "#\n",
    "#\n",
    "#\n",
    "#\n",
    "#\n",
    "#\n",
    "#\n",
    "#\n",
    "#\n",
    "#\n",
    "#\n",
    "#\n",
    "#\n",
    "#\n",
    "#\n",
    "#\n",
    "#\n",
    "#\n",
    "#\n",
    "#\n",
    "#\n",
    "#\n",
    "#\n",
    "#\n",
    "#\n",
    "#\n",
    "#\n",
    "#\n",
    "#\n",
    "#\n",
    "#\n",
    "#\n",
    "#"
   ]
  },
  {
   "cell_type": "code",
   "execution_count": null,
   "id": "a2535044",
   "metadata": {
    "scrolled": false
   },
   "outputs": [],
   "source": [
    "sh(1)"
   ]
  },
  {
   "cell_type": "code",
   "execution_count": null,
   "id": "3e686466",
   "metadata": {},
   "outputs": [],
   "source": [
    "sh(2)"
   ]
  },
  {
   "cell_type": "code",
   "execution_count": null,
   "id": "185babc8",
   "metadata": {},
   "outputs": [],
   "source": [
    "sh(3)"
   ]
  },
  {
   "cell_type": "code",
   "execution_count": null,
   "id": "0a61f970",
   "metadata": {},
   "outputs": [],
   "source": [
    "sh(4)"
   ]
  },
  {
   "cell_type": "code",
   "execution_count": null,
   "id": "cd33bc5f",
   "metadata": {},
   "outputs": [],
   "source": [
    "sh(5)"
   ]
  },
  {
   "cell_type": "code",
   "execution_count": null,
   "id": "76f0cfac",
   "metadata": {},
   "outputs": [],
   "source": [
    "sh(6)"
   ]
  },
  {
   "cell_type": "code",
   "execution_count": null,
   "id": "6f445281",
   "metadata": {},
   "outputs": [],
   "source": [
    "sh(7)"
   ]
  },
  {
   "cell_type": "code",
   "execution_count": null,
   "id": "4b09e326",
   "metadata": {},
   "outputs": [],
   "source": [
    "sh(8)"
   ]
  },
  {
   "cell_type": "code",
   "execution_count": null,
   "id": "8314aa50",
   "metadata": {},
   "outputs": [],
   "source": [
    "sh(9)"
   ]
  },
  {
   "cell_type": "code",
   "execution_count": null,
   "id": "a5242a7d",
   "metadata": {},
   "outputs": [],
   "source": [
    "sh(10)"
   ]
  },
  {
   "cell_type": "code",
   "execution_count": null,
   "id": "aace3df6",
   "metadata": {},
   "outputs": [],
   "source": [
    "sh(11)"
   ]
  },
  {
   "cell_type": "code",
   "execution_count": null,
   "id": "ecf0fd04",
   "metadata": {},
   "outputs": [],
   "source": [
    "sh(12)"
   ]
  },
  {
   "cell_type": "code",
   "execution_count": null,
   "id": "6f8000ce",
   "metadata": {},
   "outputs": [],
   "source": [
    "sh(13)"
   ]
  },
  {
   "cell_type": "code",
   "execution_count": null,
   "id": "48fd3200",
   "metadata": {},
   "outputs": [],
   "source": [
    "sh(14)"
   ]
  },
  {
   "cell_type": "code",
   "execution_count": null,
   "id": "89aa4347",
   "metadata": {},
   "outputs": [],
   "source": [
    "sh(15)"
   ]
  },
  {
   "cell_type": "code",
   "execution_count": null,
   "id": "45ba512a",
   "metadata": {},
   "outputs": [],
   "source": [
    "sh(16)"
   ]
  },
  {
   "cell_type": "code",
   "execution_count": null,
   "id": "5cd45e2f",
   "metadata": {},
   "outputs": [],
   "source": [
    "sh(17)"
   ]
  },
  {
   "cell_type": "code",
   "execution_count": null,
   "id": "e054a849",
   "metadata": {},
   "outputs": [],
   "source": [
    "sh(18)"
   ]
  },
  {
   "cell_type": "code",
   "execution_count": null,
   "id": "9c6c6f9f",
   "metadata": {},
   "outputs": [],
   "source": [
    "sh(19)"
   ]
  },
  {
   "cell_type": "code",
   "execution_count": null,
   "id": "64919595",
   "metadata": {},
   "outputs": [],
   "source": [
    "sh(20)"
   ]
  },
  {
   "cell_type": "code",
   "execution_count": null,
   "id": "3953c4bd",
   "metadata": {},
   "outputs": [],
   "source": [
    "sh(21)"
   ]
  },
  {
   "cell_type": "code",
   "execution_count": null,
   "id": "50219abd",
   "metadata": {},
   "outputs": [],
   "source": [
    "sh(22)"
   ]
  },
  {
   "cell_type": "code",
   "execution_count": null,
   "id": "1e38d04b",
   "metadata": {},
   "outputs": [],
   "source": [
    "sh(23)"
   ]
  },
  {
   "cell_type": "code",
   "execution_count": null,
   "id": "d14952f7",
   "metadata": {},
   "outputs": [],
   "source": [
    "sh(24)"
   ]
  },
  {
   "cell_type": "code",
   "execution_count": null,
   "id": "c7d0b580",
   "metadata": {},
   "outputs": [],
   "source": [
    "sh(25)"
   ]
  },
  {
   "cell_type": "code",
   "execution_count": null,
   "id": "fd84d2a0",
   "metadata": {},
   "outputs": [],
   "source": [
    "sh(26)"
   ]
  },
  {
   "cell_type": "code",
   "execution_count": null,
   "id": "3cac17c2",
   "metadata": {},
   "outputs": [],
   "source": [
    "sh(27)"
   ]
  },
  {
   "cell_type": "code",
   "execution_count": null,
   "id": "5c805029",
   "metadata": {},
   "outputs": [],
   "source": [
    "sh(28)"
   ]
  },
  {
   "cell_type": "code",
   "execution_count": null,
   "id": "248cc2ed",
   "metadata": {},
   "outputs": [],
   "source": [
    "sh(29)"
   ]
  },
  {
   "cell_type": "code",
   "execution_count": null,
   "id": "6a470caa",
   "metadata": {},
   "outputs": [],
   "source": [
    "sh(30)"
   ]
  },
  {
   "cell_type": "code",
   "execution_count": null,
   "id": "bc3237a7",
   "metadata": {},
   "outputs": [],
   "source": [
    "sh(31)"
   ]
  },
  {
   "cell_type": "code",
   "execution_count": null,
   "id": "c0b97334",
   "metadata": {},
   "outputs": [],
   "source": [
    "sh(32)"
   ]
  },
  {
   "cell_type": "code",
   "execution_count": null,
   "id": "2647d153",
   "metadata": {},
   "outputs": [],
   "source": [
    "sh(33)"
   ]
  },
  {
   "cell_type": "code",
   "execution_count": null,
   "id": "9dd202c7",
   "metadata": {},
   "outputs": [],
   "source": [
    "sh(34)"
   ]
  },
  {
   "cell_type": "code",
   "execution_count": null,
   "id": "ad3583c0",
   "metadata": {},
   "outputs": [],
   "source": [
    "sh(35)"
   ]
  },
  {
   "cell_type": "code",
   "execution_count": null,
   "id": "bc598710",
   "metadata": {},
   "outputs": [],
   "source": [
    "sh(36)"
   ]
  },
  {
   "cell_type": "code",
   "execution_count": null,
   "id": "030535b7",
   "metadata": {},
   "outputs": [],
   "source": [
    "sh(37)"
   ]
  },
  {
   "cell_type": "code",
   "execution_count": null,
   "id": "cfec8b48",
   "metadata": {},
   "outputs": [],
   "source": [
    "sh(38)"
   ]
  },
  {
   "cell_type": "code",
   "execution_count": null,
   "id": "8807bbe9",
   "metadata": {},
   "outputs": [],
   "source": [
    "sh(39)"
   ]
  },
  {
   "cell_type": "code",
   "execution_count": null,
   "id": "6dc10fe9",
   "metadata": {},
   "outputs": [],
   "source": [
    "sh(40)"
   ]
  },
  {
   "cell_type": "code",
   "execution_count": null,
   "id": "8e4478ef",
   "metadata": {},
   "outputs": [],
   "source": [
    "sh(41)"
   ]
  },
  {
   "cell_type": "code",
   "execution_count": null,
   "id": "ca533eeb",
   "metadata": {},
   "outputs": [],
   "source": [
    "sh(42)"
   ]
  },
  {
   "cell_type": "code",
   "execution_count": null,
   "id": "c726344d",
   "metadata": {},
   "outputs": [],
   "source": [
    "sh(43)"
   ]
  },
  {
   "cell_type": "code",
   "execution_count": null,
   "id": "51ce573f",
   "metadata": {},
   "outputs": [],
   "source": [
    "sh(44)"
   ]
  },
  {
   "cell_type": "code",
   "execution_count": null,
   "id": "66f46601",
   "metadata": {},
   "outputs": [],
   "source": [
    "sh(45)"
   ]
  },
  {
   "cell_type": "code",
   "execution_count": null,
   "id": "6b45e6e4",
   "metadata": {},
   "outputs": [],
   "source": [
    "sh(46)"
   ]
  },
  {
   "cell_type": "code",
   "execution_count": null,
   "id": "c55c7706",
   "metadata": {},
   "outputs": [],
   "source": [
    "sh(47)"
   ]
  },
  {
   "cell_type": "code",
   "execution_count": null,
   "id": "050d0ab5",
   "metadata": {},
   "outputs": [],
   "source": [
    "sh(48)"
   ]
  },
  {
   "cell_type": "code",
   "execution_count": null,
   "id": "72afc13c",
   "metadata": {},
   "outputs": [],
   "source": [
    "sh(49)"
   ]
  },
  {
   "cell_type": "code",
   "execution_count": null,
   "id": "bb7fd2db",
   "metadata": {},
   "outputs": [],
   "source": [
    "sh(50)"
   ]
  },
  {
   "cell_type": "code",
   "execution_count": null,
   "id": "c8b57b68",
   "metadata": {},
   "outputs": [],
   "source": [
    "sh(51)"
   ]
  },
  {
   "cell_type": "code",
   "execution_count": null,
   "id": "055ae76b",
   "metadata": {},
   "outputs": [],
   "source": [
    "sh(52)"
   ]
  },
  {
   "cell_type": "code",
   "execution_count": null,
   "id": "4f7dfb87",
   "metadata": {},
   "outputs": [],
   "source": [
    "sh(53)"
   ]
  },
  {
   "cell_type": "code",
   "execution_count": null,
   "id": "ec745be8",
   "metadata": {},
   "outputs": [],
   "source": [
    "sh(54)"
   ]
  },
  {
   "cell_type": "code",
   "execution_count": null,
   "id": "1b76912b",
   "metadata": {},
   "outputs": [],
   "source": [
    "sh(55)"
   ]
  },
  {
   "cell_type": "code",
   "execution_count": null,
   "id": "120e137b",
   "metadata": {},
   "outputs": [],
   "source": [
    "sh(56)"
   ]
  },
  {
   "cell_type": "code",
   "execution_count": null,
   "id": "ac1cefa6",
   "metadata": {},
   "outputs": [],
   "source": [
    "sh(57)"
   ]
  },
  {
   "cell_type": "code",
   "execution_count": null,
   "id": "616aaa28",
   "metadata": {},
   "outputs": [],
   "source": [
    "sh(58)"
   ]
  },
  {
   "cell_type": "code",
   "execution_count": null,
   "id": "bcb67347",
   "metadata": {},
   "outputs": [],
   "source": [
    "sh(59)"
   ]
  },
  {
   "cell_type": "code",
   "execution_count": null,
   "id": "bb7dc044",
   "metadata": {},
   "outputs": [],
   "source": [
    "sh(60)"
   ]
  },
  {
   "cell_type": "code",
   "execution_count": null,
   "id": "f8a56ceb",
   "metadata": {},
   "outputs": [],
   "source": [
    "sh(61)"
   ]
  },
  {
   "cell_type": "code",
   "execution_count": null,
   "id": "1b5f740d",
   "metadata": {},
   "outputs": [],
   "source": [
    "sh(62)"
   ]
  },
  {
   "cell_type": "code",
   "execution_count": null,
   "id": "b124c809",
   "metadata": {},
   "outputs": [],
   "source": [
    "sh(63)"
   ]
  },
  {
   "cell_type": "code",
   "execution_count": null,
   "id": "9a8e43bd",
   "metadata": {},
   "outputs": [],
   "source": [
    "sh(64)"
   ]
  },
  {
   "cell_type": "code",
   "execution_count": null,
   "id": "ad6cd74b",
   "metadata": {},
   "outputs": [],
   "source": [
    "sh(65)"
   ]
  },
  {
   "cell_type": "code",
   "execution_count": null,
   "id": "abac792b",
   "metadata": {},
   "outputs": [],
   "source": [
    "sh(66)"
   ]
  },
  {
   "cell_type": "code",
   "execution_count": null,
   "id": "23728083",
   "metadata": {},
   "outputs": [],
   "source": [
    "sh(67)"
   ]
  },
  {
   "cell_type": "code",
   "execution_count": null,
   "id": "4e87bf19",
   "metadata": {},
   "outputs": [],
   "source": [
    "sh(68)"
   ]
  },
  {
   "cell_type": "code",
   "execution_count": null,
   "id": "d103c750",
   "metadata": {},
   "outputs": [],
   "source": [
    "sh(69)"
   ]
  },
  {
   "cell_type": "code",
   "execution_count": null,
   "id": "0074c7ac",
   "metadata": {},
   "outputs": [],
   "source": [
    "sh(70)"
   ]
  },
  {
   "cell_type": "code",
   "execution_count": null,
   "id": "c3d91eae",
   "metadata": {},
   "outputs": [],
   "source": [
    "sh(71)"
   ]
  },
  {
   "cell_type": "code",
   "execution_count": null,
   "id": "ffe5a953",
   "metadata": {},
   "outputs": [],
   "source": [
    "sh(72)"
   ]
  },
  {
   "cell_type": "code",
   "execution_count": null,
   "id": "d1358017",
   "metadata": {},
   "outputs": [],
   "source": [
    "sh(73)"
   ]
  },
  {
   "cell_type": "code",
   "execution_count": null,
   "id": "ee2fe0d3",
   "metadata": {},
   "outputs": [],
   "source": [
    "sh(74)"
   ]
  },
  {
   "cell_type": "code",
   "execution_count": null,
   "id": "654cc6f1",
   "metadata": {},
   "outputs": [],
   "source": [
    "sh(75)"
   ]
  },
  {
   "cell_type": "code",
   "execution_count": null,
   "id": "205f3157",
   "metadata": {},
   "outputs": [],
   "source": [
    "sh(76)"
   ]
  },
  {
   "cell_type": "code",
   "execution_count": null,
   "id": "49ef1b68",
   "metadata": {},
   "outputs": [],
   "source": [
    "sh(77)"
   ]
  },
  {
   "cell_type": "code",
   "execution_count": null,
   "id": "27d922f0",
   "metadata": {},
   "outputs": [],
   "source": [
    "sh(78)"
   ]
  },
  {
   "cell_type": "code",
   "execution_count": null,
   "id": "72b89234",
   "metadata": {},
   "outputs": [],
   "source": [
    "sh(79)"
   ]
  },
  {
   "cell_type": "code",
   "execution_count": null,
   "id": "2202eb51",
   "metadata": {},
   "outputs": [],
   "source": [
    "sh(80)"
   ]
  },
  {
   "cell_type": "code",
   "execution_count": null,
   "id": "2a92a7c4",
   "metadata": {},
   "outputs": [],
   "source": [
    "sh(81)"
   ]
  },
  {
   "cell_type": "code",
   "execution_count": null,
   "id": "b2f3cc94",
   "metadata": {},
   "outputs": [],
   "source": [
    "sh(82)"
   ]
  },
  {
   "cell_type": "code",
   "execution_count": null,
   "id": "d2e256da",
   "metadata": {},
   "outputs": [],
   "source": [
    "sh(83)"
   ]
  },
  {
   "cell_type": "code",
   "execution_count": null,
   "id": "19b66143",
   "metadata": {},
   "outputs": [],
   "source": [
    "sh(84)"
   ]
  },
  {
   "cell_type": "code",
   "execution_count": null,
   "id": "5b93482a",
   "metadata": {},
   "outputs": [],
   "source": [
    "sh(85)"
   ]
  },
  {
   "cell_type": "code",
   "execution_count": null,
   "id": "4d83d873",
   "metadata": {},
   "outputs": [],
   "source": [
    "sh(86)"
   ]
  },
  {
   "cell_type": "code",
   "execution_count": null,
   "id": "f3004ff7",
   "metadata": {},
   "outputs": [],
   "source": [
    "sh(87)"
   ]
  },
  {
   "cell_type": "code",
   "execution_count": null,
   "id": "15225382",
   "metadata": {},
   "outputs": [],
   "source": [
    "sh(88)"
   ]
  },
  {
   "cell_type": "code",
   "execution_count": null,
   "id": "d1e4815d",
   "metadata": {},
   "outputs": [],
   "source": [
    "sh(89)"
   ]
  },
  {
   "cell_type": "code",
   "execution_count": null,
   "id": "1c00d5f1",
   "metadata": {},
   "outputs": [],
   "source": [
    "sh(90)"
   ]
  },
  {
   "cell_type": "code",
   "execution_count": null,
   "id": "eb7ff3b2",
   "metadata": {},
   "outputs": [],
   "source": [
    "sh(91)"
   ]
  },
  {
   "cell_type": "code",
   "execution_count": null,
   "id": "6609a888",
   "metadata": {},
   "outputs": [],
   "source": [
    "sh(92)"
   ]
  },
  {
   "cell_type": "code",
   "execution_count": null,
   "id": "8bcad6fb",
   "metadata": {},
   "outputs": [],
   "source": [
    "sh(93)"
   ]
  },
  {
   "cell_type": "code",
   "execution_count": null,
   "id": "e86ae2e8",
   "metadata": {},
   "outputs": [],
   "source": [
    "sh(94)"
   ]
  },
  {
   "cell_type": "code",
   "execution_count": null,
   "id": "e9bfd60b",
   "metadata": {},
   "outputs": [],
   "source": [
    "sh(95)"
   ]
  },
  {
   "cell_type": "code",
   "execution_count": null,
   "id": "7e3a014f",
   "metadata": {},
   "outputs": [],
   "source": [
    "sh(96)"
   ]
  },
  {
   "cell_type": "code",
   "execution_count": null,
   "id": "7984c1a1",
   "metadata": {},
   "outputs": [],
   "source": [
    "sh(97)"
   ]
  },
  {
   "cell_type": "code",
   "execution_count": null,
   "id": "62735d56",
   "metadata": {},
   "outputs": [],
   "source": [
    "sh(98)"
   ]
  },
  {
   "cell_type": "code",
   "execution_count": null,
   "id": "65a16fe1",
   "metadata": {},
   "outputs": [],
   "source": [
    "sh(99)"
   ]
  },
  {
   "cell_type": "code",
   "execution_count": null,
   "id": "dc497b33",
   "metadata": {},
   "outputs": [],
   "source": [
    "sh(100)"
   ]
  },
  {
   "cell_type": "code",
   "execution_count": null,
   "id": "24854142",
   "metadata": {
    "scrolled": true
   },
   "outputs": [],
   "source": [
    "sh(101)"
   ]
  },
  {
   "cell_type": "code",
   "execution_count": null,
   "id": "10fb4c8f",
   "metadata": {},
   "outputs": [],
   "source": [
    "sh(102)"
   ]
  },
  {
   "cell_type": "code",
   "execution_count": null,
   "id": "780b7dc9",
   "metadata": {},
   "outputs": [],
   "source": [
    "sh(103)"
   ]
  },
  {
   "cell_type": "code",
   "execution_count": null,
   "id": "ef2babde",
   "metadata": {},
   "outputs": [],
   "source": [
    "sh(104)"
   ]
  },
  {
   "cell_type": "code",
   "execution_count": null,
   "id": "405b85f6",
   "metadata": {},
   "outputs": [],
   "source": [
    "sh(105)"
   ]
  },
  {
   "cell_type": "code",
   "execution_count": null,
   "id": "adf15bcc",
   "metadata": {},
   "outputs": [],
   "source": [
    "sh(106)"
   ]
  },
  {
   "cell_type": "code",
   "execution_count": null,
   "id": "066bee1e",
   "metadata": {},
   "outputs": [],
   "source": [
    "sh(107)"
   ]
  },
  {
   "cell_type": "code",
   "execution_count": null,
   "id": "627994b0",
   "metadata": {},
   "outputs": [],
   "source": [
    "sh(108)"
   ]
  },
  {
   "cell_type": "code",
   "execution_count": null,
   "id": "ca7caf7e",
   "metadata": {},
   "outputs": [],
   "source": [
    "sh(109)"
   ]
  },
  {
   "cell_type": "code",
   "execution_count": null,
   "id": "a5fcd7f7",
   "metadata": {},
   "outputs": [],
   "source": [
    "sh(110)"
   ]
  },
  {
   "cell_type": "code",
   "execution_count": null,
   "id": "77b1febc",
   "metadata": {},
   "outputs": [],
   "source": [
    "sh(111)"
   ]
  },
  {
   "cell_type": "code",
   "execution_count": null,
   "id": "ca2aefbe",
   "metadata": {},
   "outputs": [],
   "source": [
    "sh(112)"
   ]
  },
  {
   "cell_type": "code",
   "execution_count": null,
   "id": "5c059417",
   "metadata": {},
   "outputs": [],
   "source": [
    "sh(113)"
   ]
  },
  {
   "cell_type": "code",
   "execution_count": null,
   "id": "3a34627a",
   "metadata": {},
   "outputs": [],
   "source": [
    "sh(114)"
   ]
  },
  {
   "cell_type": "code",
   "execution_count": null,
   "id": "38d3a0b9",
   "metadata": {},
   "outputs": [],
   "source": [
    "sh(115)"
   ]
  },
  {
   "cell_type": "code",
   "execution_count": null,
   "id": "f9869640",
   "metadata": {},
   "outputs": [],
   "source": [
    "sh(116)"
   ]
  },
  {
   "cell_type": "code",
   "execution_count": null,
   "id": "d25fbf19",
   "metadata": {},
   "outputs": [],
   "source": [
    "sh(117)"
   ]
  },
  {
   "cell_type": "code",
   "execution_count": null,
   "id": "7e0878d2",
   "metadata": {},
   "outputs": [],
   "source": [
    "sh(118)"
   ]
  },
  {
   "cell_type": "code",
   "execution_count": null,
   "id": "611bdf70",
   "metadata": {},
   "outputs": [],
   "source": [
    "sh(119)"
   ]
  },
  {
   "cell_type": "code",
   "execution_count": null,
   "id": "fe56dbcd",
   "metadata": {},
   "outputs": [],
   "source": [
    "sh(120)"
   ]
  },
  {
   "cell_type": "code",
   "execution_count": null,
   "id": "fb1673d6",
   "metadata": {},
   "outputs": [],
   "source": [
    "sh(121)"
   ]
  },
  {
   "cell_type": "code",
   "execution_count": null,
   "id": "95a4df0a",
   "metadata": {},
   "outputs": [],
   "source": [
    "sh(122)"
   ]
  },
  {
   "cell_type": "code",
   "execution_count": null,
   "id": "c82fecc7",
   "metadata": {},
   "outputs": [],
   "source": [
    "sh(123)"
   ]
  },
  {
   "cell_type": "code",
   "execution_count": null,
   "id": "9d1c2371",
   "metadata": {},
   "outputs": [],
   "source": [
    "sh(124)"
   ]
  },
  {
   "cell_type": "code",
   "execution_count": null,
   "id": "7b83e292",
   "metadata": {},
   "outputs": [],
   "source": [
    "sh(125)"
   ]
  },
  {
   "cell_type": "code",
   "execution_count": null,
   "id": "327eed74",
   "metadata": {},
   "outputs": [],
   "source": [
    "sh(126)"
   ]
  },
  {
   "cell_type": "code",
   "execution_count": null,
   "id": "ba0c1ce5",
   "metadata": {},
   "outputs": [],
   "source": [
    "sh(127)"
   ]
  },
  {
   "cell_type": "code",
   "execution_count": null,
   "id": "7f7c40b5",
   "metadata": {},
   "outputs": [],
   "source": [
    "sh(128)"
   ]
  },
  {
   "cell_type": "code",
   "execution_count": null,
   "id": "d73f030e",
   "metadata": {},
   "outputs": [],
   "source": [
    "sh(129)"
   ]
  },
  {
   "cell_type": "code",
   "execution_count": null,
   "id": "cbe6aded",
   "metadata": {},
   "outputs": [],
   "source": [
    "sh(130)"
   ]
  },
  {
   "cell_type": "code",
   "execution_count": null,
   "id": "693b813d",
   "metadata": {},
   "outputs": [],
   "source": [
    "sh(131)"
   ]
  },
  {
   "cell_type": "code",
   "execution_count": null,
   "id": "b5308310",
   "metadata": {},
   "outputs": [],
   "source": [
    "sh(132)"
   ]
  },
  {
   "cell_type": "code",
   "execution_count": null,
   "id": "540a6771",
   "metadata": {},
   "outputs": [],
   "source": [
    "sh(133)"
   ]
  },
  {
   "cell_type": "code",
   "execution_count": null,
   "id": "c52645bc",
   "metadata": {},
   "outputs": [],
   "source": [
    "sh(134)"
   ]
  },
  {
   "cell_type": "code",
   "execution_count": null,
   "id": "d9a18b69",
   "metadata": {},
   "outputs": [],
   "source": [
    "sh(135)"
   ]
  },
  {
   "cell_type": "code",
   "execution_count": null,
   "id": "37626a30",
   "metadata": {},
   "outputs": [],
   "source": [
    "sh(136)"
   ]
  },
  {
   "cell_type": "code",
   "execution_count": null,
   "id": "40a60794",
   "metadata": {},
   "outputs": [],
   "source": [
    "sh(137)"
   ]
  },
  {
   "cell_type": "code",
   "execution_count": null,
   "id": "52e3c4c5",
   "metadata": {},
   "outputs": [],
   "source": [
    "sh(138)"
   ]
  },
  {
   "cell_type": "code",
   "execution_count": null,
   "id": "d916a4b4",
   "metadata": {},
   "outputs": [],
   "source": [
    "sh(139)"
   ]
  },
  {
   "cell_type": "code",
   "execution_count": null,
   "id": "e3a64e2b",
   "metadata": {},
   "outputs": [],
   "source": [
    "sh(140)"
   ]
  },
  {
   "cell_type": "code",
   "execution_count": null,
   "id": "394d04b4",
   "metadata": {},
   "outputs": [],
   "source": [
    "sh(141)"
   ]
  },
  {
   "cell_type": "code",
   "execution_count": null,
   "id": "a82a1f74",
   "metadata": {},
   "outputs": [],
   "source": [
    "sh(142)"
   ]
  },
  {
   "cell_type": "code",
   "execution_count": null,
   "id": "d3740fd1",
   "metadata": {},
   "outputs": [],
   "source": [
    "sh(143)"
   ]
  },
  {
   "cell_type": "code",
   "execution_count": null,
   "id": "f6a6dfb9",
   "metadata": {},
   "outputs": [],
   "source": [
    "sh(144)"
   ]
  },
  {
   "cell_type": "code",
   "execution_count": null,
   "id": "0f944823",
   "metadata": {},
   "outputs": [],
   "source": [
    "sh(145)"
   ]
  },
  {
   "cell_type": "code",
   "execution_count": null,
   "id": "48474b8e",
   "metadata": {},
   "outputs": [],
   "source": [
    "sh(146)"
   ]
  },
  {
   "cell_type": "code",
   "execution_count": null,
   "id": "4ef56019",
   "metadata": {},
   "outputs": [],
   "source": [
    "sh(147)"
   ]
  },
  {
   "cell_type": "code",
   "execution_count": null,
   "id": "d9f9c556",
   "metadata": {},
   "outputs": [],
   "source": [
    "sh(148)"
   ]
  },
  {
   "cell_type": "code",
   "execution_count": null,
   "id": "228da8d4",
   "metadata": {},
   "outputs": [],
   "source": [
    "sh(149)"
   ]
  },
  {
   "cell_type": "code",
   "execution_count": null,
   "id": "32e41e15",
   "metadata": {},
   "outputs": [],
   "source": [
    "sh(150)"
   ]
  },
  {
   "cell_type": "code",
   "execution_count": null,
   "id": "02f040db",
   "metadata": {},
   "outputs": [],
   "source": [
    "sh(151)"
   ]
  },
  {
   "cell_type": "code",
   "execution_count": null,
   "id": "dc4d09c7",
   "metadata": {},
   "outputs": [],
   "source": [
    "sh(152)"
   ]
  },
  {
   "cell_type": "code",
   "execution_count": null,
   "id": "2352fb95",
   "metadata": {},
   "outputs": [],
   "source": [
    "sh(153)"
   ]
  },
  {
   "cell_type": "code",
   "execution_count": null,
   "id": "4eaaae3a",
   "metadata": {},
   "outputs": [],
   "source": [
    "sh(154)"
   ]
  },
  {
   "cell_type": "code",
   "execution_count": null,
   "id": "09e9590b",
   "metadata": {},
   "outputs": [],
   "source": [
    "sh(155)"
   ]
  },
  {
   "cell_type": "code",
   "execution_count": null,
   "id": "5c9222ea",
   "metadata": {},
   "outputs": [],
   "source": [
    "sh(156)"
   ]
  },
  {
   "cell_type": "code",
   "execution_count": null,
   "id": "c8fe42c6",
   "metadata": {},
   "outputs": [],
   "source": [
    "sh(157)"
   ]
  },
  {
   "cell_type": "code",
   "execution_count": null,
   "id": "0c215b36",
   "metadata": {},
   "outputs": [],
   "source": [
    "sh(158)"
   ]
  },
  {
   "cell_type": "code",
   "execution_count": null,
   "id": "c82f234c",
   "metadata": {},
   "outputs": [],
   "source": [
    "sh(159)"
   ]
  },
  {
   "cell_type": "code",
   "execution_count": null,
   "id": "7bd2e225",
   "metadata": {},
   "outputs": [],
   "source": [
    "sh(160)"
   ]
  },
  {
   "cell_type": "code",
   "execution_count": null,
   "id": "ec0c3288",
   "metadata": {},
   "outputs": [],
   "source": [
    "sh(161)"
   ]
  },
  {
   "cell_type": "code",
   "execution_count": null,
   "id": "18a01268",
   "metadata": {},
   "outputs": [],
   "source": [
    "sh(162)"
   ]
  },
  {
   "cell_type": "code",
   "execution_count": null,
   "id": "fab7e638",
   "metadata": {},
   "outputs": [],
   "source": [
    "sh(163)"
   ]
  },
  {
   "cell_type": "code",
   "execution_count": null,
   "id": "c99cdc8e",
   "metadata": {},
   "outputs": [],
   "source": [
    "sh(164)"
   ]
  },
  {
   "cell_type": "code",
   "execution_count": null,
   "id": "4dbd7ef7",
   "metadata": {},
   "outputs": [],
   "source": [
    "sh(165)"
   ]
  },
  {
   "cell_type": "code",
   "execution_count": null,
   "id": "f63c7405",
   "metadata": {},
   "outputs": [],
   "source": [
    "sh(166)"
   ]
  },
  {
   "cell_type": "code",
   "execution_count": null,
   "id": "16d2a121",
   "metadata": {},
   "outputs": [],
   "source": [
    "sh(167)"
   ]
  },
  {
   "cell_type": "code",
   "execution_count": null,
   "id": "be1cdfba",
   "metadata": {},
   "outputs": [],
   "source": [
    "sh(168)"
   ]
  },
  {
   "cell_type": "code",
   "execution_count": null,
   "id": "c417fdd3",
   "metadata": {},
   "outputs": [],
   "source": [
    "sh(169)"
   ]
  },
  {
   "cell_type": "code",
   "execution_count": null,
   "id": "59fc04d2",
   "metadata": {},
   "outputs": [],
   "source": [
    "sh(170)"
   ]
  },
  {
   "cell_type": "code",
   "execution_count": null,
   "id": "e326cbbf",
   "metadata": {},
   "outputs": [],
   "source": [
    "sh(171)"
   ]
  },
  {
   "cell_type": "code",
   "execution_count": null,
   "id": "fd2683d5",
   "metadata": {},
   "outputs": [],
   "source": [
    "sh(172)"
   ]
  },
  {
   "cell_type": "code",
   "execution_count": null,
   "id": "acd5fe13",
   "metadata": {},
   "outputs": [],
   "source": [
    "sh(173)"
   ]
  },
  {
   "cell_type": "code",
   "execution_count": null,
   "id": "f82f4bcc",
   "metadata": {},
   "outputs": [],
   "source": [
    "sh(174)"
   ]
  },
  {
   "cell_type": "code",
   "execution_count": null,
   "id": "25a2391f",
   "metadata": {},
   "outputs": [],
   "source": [
    "sh(175)"
   ]
  },
  {
   "cell_type": "code",
   "execution_count": null,
   "id": "33443b86",
   "metadata": {},
   "outputs": [],
   "source": [
    "sh(179)"
   ]
  },
  {
   "cell_type": "code",
   "execution_count": null,
   "id": "fb514da3",
   "metadata": {},
   "outputs": [],
   "source": [
    "sh(180)"
   ]
  },
  {
   "cell_type": "code",
   "execution_count": null,
   "id": "c95de5e3",
   "metadata": {},
   "outputs": [],
   "source": [
    "sh(181)"
   ]
  },
  {
   "cell_type": "code",
   "execution_count": null,
   "id": "df614501",
   "metadata": {},
   "outputs": [],
   "source": [
    "sh(184)"
   ]
  },
  {
   "cell_type": "code",
   "execution_count": null,
   "id": "026d7678",
   "metadata": {},
   "outputs": [],
   "source": [
    "sh(185)"
   ]
  },
  {
   "cell_type": "code",
   "execution_count": null,
   "id": "14b9e92e",
   "metadata": {},
   "outputs": [],
   "source": [
    "sh(186)"
   ]
  },
  {
   "cell_type": "code",
   "execution_count": null,
   "id": "75647187",
   "metadata": {},
   "outputs": [],
   "source": [
    "sh(187)"
   ]
  },
  {
   "cell_type": "code",
   "execution_count": null,
   "id": "99b3ea3e",
   "metadata": {},
   "outputs": [],
   "source": [
    "sh(188)"
   ]
  },
  {
   "cell_type": "code",
   "execution_count": null,
   "id": "178393f1",
   "metadata": {},
   "outputs": [],
   "source": [
    "sh(189)"
   ]
  },
  {
   "cell_type": "code",
   "execution_count": null,
   "id": "2b66063a",
   "metadata": {},
   "outputs": [],
   "source": [
    "sh(190)"
   ]
  },
  {
   "cell_type": "code",
   "execution_count": null,
   "id": "94a122b7",
   "metadata": {},
   "outputs": [],
   "source": [
    "sh(191)"
   ]
  },
  {
   "cell_type": "code",
   "execution_count": null,
   "id": "64cb0e8c",
   "metadata": {},
   "outputs": [],
   "source": [
    "sh(192)"
   ]
  },
  {
   "cell_type": "code",
   "execution_count": null,
   "id": "d5f73186",
   "metadata": {},
   "outputs": [],
   "source": [
    "sh(193)"
   ]
  },
  {
   "cell_type": "code",
   "execution_count": null,
   "id": "b7515343",
   "metadata": {},
   "outputs": [],
   "source": [
    "sh(194)"
   ]
  },
  {
   "cell_type": "code",
   "execution_count": null,
   "id": "28bb918d",
   "metadata": {},
   "outputs": [],
   "source": [
    "sh(195)"
   ]
  },
  {
   "cell_type": "code",
   "execution_count": null,
   "id": "207b1b12",
   "metadata": {},
   "outputs": [],
   "source": [
    "sh(196)"
   ]
  },
  {
   "cell_type": "code",
   "execution_count": null,
   "id": "b8171171",
   "metadata": {},
   "outputs": [],
   "source": [
    "sh(197)"
   ]
  },
  {
   "cell_type": "code",
   "execution_count": null,
   "id": "587de55d",
   "metadata": {},
   "outputs": [],
   "source": [
    "sh(198)"
   ]
  },
  {
   "cell_type": "code",
   "execution_count": null,
   "id": "be32dfeb",
   "metadata": {},
   "outputs": [],
   "source": [
    "sh(199)"
   ]
  },
  {
   "cell_type": "code",
   "execution_count": null,
   "id": "e0c9fbc3",
   "metadata": {},
   "outputs": [],
   "source": [
    "sh(200)"
   ]
  },
  {
   "cell_type": "code",
   "execution_count": null,
   "id": "b4ca443b",
   "metadata": {},
   "outputs": [],
   "source": []
  }
 ],
 "metadata": {
  "kernelspec": {
   "display_name": "Python 3",
   "language": "python",
   "name": "python3"
  },
  "language_info": {
   "codemirror_mode": {
    "name": "ipython",
    "version": 3
   },
   "file_extension": ".py",
   "mimetype": "text/x-python",
   "name": "python",
   "nbconvert_exporter": "python",
   "pygments_lexer": "ipython3",
   "version": "3.9.4"
  }
 },
 "nbformat": 4,
 "nbformat_minor": 5
}
